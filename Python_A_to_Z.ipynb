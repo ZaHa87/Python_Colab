{
  "nbformat": 4,
  "nbformat_minor": 0,
  "metadata": {
    "colab": {
      "provenance": [],
      "toc_visible": true,
      "collapsed_sections": [],
      "authorship_tag": "ABX9TyPkU/bk5eNbdH4GmAnCKzJV",
      "include_colab_link": true
    },
    "kernelspec": {
      "name": "python3",
      "display_name": "Python 3"
    },
    "language_info": {
      "name": "python"
    }
  },
  "cells": [
    {
      "cell_type": "markdown",
      "metadata": {
        "id": "view-in-github",
        "colab_type": "text"
      },
      "source": [
        "<a href=\"https://colab.research.google.com/github/ZaHa87/Python_Colab/blob/main/Python_A_to_Z.ipynb\" target=\"_parent\"><img src=\"https://colab.research.google.com/assets/colab-badge.svg\" alt=\"Open In Colab\"/></a>"
      ]
    },
    {
      "cell_type": "code",
      "execution_count": null,
      "metadata": {
        "id": "HDnTgZZOb2SX"
      },
      "outputs": [],
      "source": [
        "import pandas as pd\n",
        "import matplotlib as mp\n",
        "import math\n",
        "\n",
        "ListingOfVariables = []\n",
        "VariablesLibrary = {}\n",
        "\n",
        "Name_Of_Strings = input(str())\n",
        "\n",
        "var_a = input(int())\n",
        "var_b = input(int())\n",
        "var_c = input(int())\n",
        "var_d = input(int())\n",
        "\n",
        "print(var_a, var_b, var_c, var_d)\n",
        "\n",
        "if var_a == var_b == var_c == var_d:\n",
        "    print(\"Inserted data values is : \\n\" + var_a + var_b + var_c + var_d +\" not a correct\")\n",
        "else:\n",
        "    print(\"Values is saved\") \n",
        "\n",
        "    "
      ]
    }
  ]
}